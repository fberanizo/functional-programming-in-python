{
 "cells": [
  {
   "cell_type": "markdown",
   "metadata": {},
   "source": [
    "## Procedural Programming"
   ]
  },
  {
   "cell_type": "code",
   "execution_count": 2,
   "metadata": {},
   "outputs": [
    {
     "name": "stdout",
     "output_type": "stream",
     "text": [
      "The result is: 21\n"
     ]
    }
   ],
   "source": [
    "OPERATORS = {\"+\", \"-\", \"*\", \"/\"}\n",
    "\n",
    "\n",
    "def p_get_number():\n",
    "    while True:\n",
    "        try:\n",
    "            value = input(\"Enter a number: \")\n",
    "            number = int(value)\n",
    "            break\n",
    "        except ValueError:\n",
    "            print(f\"{value} is not a valid number\")\n",
    "    return number\n",
    "\n",
    "\n",
    "def p_get_operator():\n",
    "    while True:\n",
    "        operator = input(\"Enter an operator (+, -, *, /): \")\n",
    "        if operator in OPERATORS:\n",
    "            break\n",
    "        print(f\"{operator} is not a valid operator\")\n",
    "    return operator\n",
    "\n",
    "\n",
    "def p_calculate(number_1, operator, number_2):\n",
    "    if operator == \"+\":\n",
    "        return number_1 + number_2\n",
    "    elif operator == \"-\":\n",
    "        return number_1 - number_2\n",
    "    elif operator == \"*\":\n",
    "        return number_1 * number_2\n",
    "    elif operator == \"/\":\n",
    "        return number_1 / number_2\n",
    "    raise ValueError(f\"{operator} is not a valid operator\")\n",
    "\n",
    "\n",
    "def p_main():\n",
    "    number_1 = p_get_number()\n",
    "    operator = p_get_operator()\n",
    "    number_2 = p_get_number()\n",
    "\n",
    "    result = p_calculate(number_1, operator, number_2)\n",
    "    print(f\"The result is: {result}\")\n",
    "\n",
    "\n",
    "p_main()"
   ]
  },
  {
   "cell_type": "markdown",
   "metadata": {},
   "source": [
    "## A Functional approach"
   ]
  },
  {
   "cell_type": "code",
   "execution_count": 5,
   "metadata": {},
   "outputs": [
    {
     "name": "stdout",
     "output_type": "stream",
     "text": [
      "The result is: 2.0\n"
     ]
    }
   ],
   "source": [
    "def f_get_number():\n",
    "    return int(input(\"Enter a number: \"))\n",
    "\n",
    "\n",
    "def f_get_operator():\n",
    "    return input(\"Enter an operator (+, -, *, /): \")\n",
    "\n",
    "\n",
    "def f_calculate(number_1, operator, number_2):\n",
    "    return number_1 + number_2 if operator == \"+\" else \\\n",
    "        number_1 - number_2 if operator == \"-\" else \\\n",
    "        number_1 * number_2 if operator == \"*\" else \\\n",
    "        number_1 / number_2 if operator == \"/\" else \\\n",
    "        None\n",
    "\n",
    "\n",
    "def f_main():\n",
    "    result = f_calculate(f_get_number(), f_get_operator(), f_get_number())\n",
    "\n",
    "    print(f\"The result is: {result}\")\n",
    "\n",
    "\n",
    "f_main()"
   ]
  },
  {
   "cell_type": "markdown",
   "metadata": {},
   "source": [
    "## Improved calculador"
   ]
  },
  {
   "cell_type": "code",
   "execution_count": 19,
   "metadata": {},
   "outputs": [
    {
     "name": "stdout",
     "output_type": "stream",
     "text": [
      "The result is: 6\n",
      "The result is: 6\n",
      "The result is: 6.0\n"
     ]
    }
   ],
   "source": [
    "def maybe(fnc):\n",
    "    \"\"\"Turns Exceptions into return values\"\"\"\n",
    "\n",
    "    def inner(*args):\n",
    "        for a in args:\n",
    "            if isinstance(a, Exception):\n",
    "                return a\n",
    "        try:\n",
    "            return fnc(*args)\n",
    "        except Exception as e:\n",
    "            return e\n",
    "\n",
    "    return inner\n",
    "\n",
    "\n",
    "def repeat(fnc, until):\n",
    "    \"\"\"Repeats a function until its return value meets the stop criterion.\"\"\"\n",
    "\n",
    "    def inner(*args):\n",
    "        while True:\n",
    "            result = fnc(*args)\n",
    "            if until(result):\n",
    "                return result\n",
    "\n",
    "    return inner\n",
    "\n",
    "\n",
    "get_number = lambda: int(input(\"Enter a number: \"))\n",
    "is_int = lambda x: isinstance(x, int)\n",
    "safe_get_number = repeat(maybe(get_number), until=is_int)\n",
    "\n",
    "get_operator = lambda: input(\"Enter an operator (+, -, *, /): \")\n",
    "is_operator = lambda x: x in OPERATORS\n",
    "safe_get_operator = repeat(get_operator, until=is_operator)\n",
    "\n",
    "\n",
    "calculate = lambda number_1, operator, number_2: number_1 + number_2 if operator == \"+\" else \\\n",
    "        number_1 - number_2 if operator == \"-\" else \\\n",
    "        number_1 * number_2 if operator == \"*\" else \\\n",
    "        number_1 / number_2 if operator == \"/\" else \\\n",
    "        None\n",
    "\n",
    "\n",
    "main = lambda: calculate(safe_get_number(), safe_get_operator(), safe_get_number())\n",
    "\n",
    "forever = lambda retval: False\n",
    "main_loop = repeat(lambda: print(f\"The result is: {main()}\"), until=forever)\n",
    "\n",
    "main_loop()\n"
   ]
  },
  {
   "cell_type": "code",
   "execution_count": null,
   "metadata": {},
   "outputs": [],
   "source": []
  }
 ],
 "metadata": {
  "interpreter": {
   "hash": "76a9a7e4115ee096d2fb998ce9e11ead07d8a3febc945e1ca345b95405fc4a30"
  },
  "kernelspec": {
   "display_name": "Python 3.8.10 64-bit ('functional-programming-in-python': virtualenv)",
   "name": "python3"
  },
  "language_info": {
   "codemirror_mode": {
    "name": "ipython",
    "version": 3
   },
   "file_extension": ".py",
   "mimetype": "text/x-python",
   "name": "python",
   "nbconvert_exporter": "python",
   "pygments_lexer": "ipython3",
   "version": "3.8.10"
  },
  "orig_nbformat": 4
 },
 "nbformat": 4,
 "nbformat_minor": 2
}
