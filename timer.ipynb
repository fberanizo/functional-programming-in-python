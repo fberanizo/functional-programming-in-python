{
 "cells": [
  {
   "cell_type": "markdown",
   "metadata": {},
   "source": [
    "## Timer, the procedural way"
   ]
  },
  {
   "cell_type": "code",
   "execution_count": 7,
   "metadata": {},
   "outputs": [],
   "source": [
    "l_factorial = lambda n: 1 if n == 0 else n * l_factorial(n - 1)"
   ]
  },
  {
   "cell_type": "code",
   "execution_count": 15,
   "metadata": {},
   "outputs": [
    {
     "name": "stdout",
     "output_type": "stream",
     "text": [
      "Took: 0.00027298927307128906\n"
     ]
    }
   ],
   "source": [
    "import time\n",
    "\n",
    "def timer(fnc, arg):\n",
    "    t0 = time.time()\n",
    "    fnc(arg)\n",
    "    t1 = time.time()\n",
    "    return t1 - t0\n",
    "\n",
    "\n",
    "print(f\"Took: {timer(l_factorial, 900)}\")"
   ]
  },
  {
   "cell_type": "markdown",
   "metadata": {},
   "source": [
    "## Timer, the functional way\n",
    "\n",
    "Usa o fato que tuplas são avaliadas na ordem dos elementos: `(time.time(), fnc(arg), time.time())` -> `(1638296311.4143047, 1, 1638296311.4143057)`"
   ]
  },
  {
   "cell_type": "code",
   "execution_count": 17,
   "metadata": {},
   "outputs": [
    {
     "data": {
      "text/plain": [
       "0.00027632713317871094"
      ]
     },
     "execution_count": 17,
     "metadata": {},
     "output_type": "execute_result"
    }
   ],
   "source": [
    "l_timestamp = lambda fnc, arg: (time.time(), fnc(arg), time.time())\n",
    "l_diff = lambda t0, result, t1: t1 - t0\n",
    "l_timer = lambda fnc, arg: l_diff(*l_timestamp(fnc, arg))\n",
    "\n",
    "l_timer(l_factorial, 900)"
   ]
  },
  {
   "cell_type": "code",
   "execution_count": null,
   "metadata": {},
   "outputs": [],
   "source": []
  }
 ],
 "metadata": {
  "interpreter": {
   "hash": "76a9a7e4115ee096d2fb998ce9e11ead07d8a3febc945e1ca345b95405fc4a30"
  },
  "kernelspec": {
   "display_name": "Python 3.8.10 64-bit ('functional-programming-in-python': virtualenv)",
   "name": "python3"
  },
  "language_info": {
   "codemirror_mode": {
    "name": "ipython",
    "version": 3
   },
   "file_extension": ".py",
   "mimetype": "text/x-python",
   "name": "python",
   "nbconvert_exporter": "python",
   "pygments_lexer": "ipython3",
   "version": "3.8.10"
  },
  "orig_nbformat": 4
 },
 "nbformat": 4,
 "nbformat_minor": 2
}
