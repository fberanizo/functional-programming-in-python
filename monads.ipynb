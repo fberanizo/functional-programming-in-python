{
 "cells": [
  {
   "cell_type": "markdown",
   "metadata": {},
   "source": [
    "## Maybe Monad\n",
    "\n",
    "Design Pattern que permite que valores (monads) \"tomem controle\" de uma função.<br>\n",
    "O Maybe Monad define valores \"Just\" e valores \"Nothing\". Operações com Nothing values sempre retornam Nothing."
   ]
  },
  {
   "cell_type": "code",
   "execution_count": 2,
   "metadata": {},
   "outputs": [
    {
     "data": {
      "text/plain": [
       "'HelloWorld'"
      ]
     },
     "execution_count": 2,
     "metadata": {},
     "output_type": "execute_result"
    }
   ],
   "source": [
    "def camelcase(text):\n",
    "    return \"\".join([c.capitalize() for c in text.split(\"_\")])\n",
    "\n",
    "camelcase(\"hello_world\")"
   ]
  },
  {
   "cell_type": "code",
   "execution_count": 9,
   "metadata": {},
   "outputs": [
    {
     "name": "stdout",
     "output_type": "stream",
     "text": [
      "HelloWorld\n",
      "Nothing\n"
     ]
    }
   ],
   "source": [
    "class Just:\n",
    "\n",
    "    def __init__(self, value):\n",
    "        self.__value = value\n",
    "    \n",
    "    def bind(self, fnc):\n",
    "        try:\n",
    "            return Just(fnc(self.__value))\n",
    "        except:\n",
    "            return Nothing()\n",
    "\n",
    "    def __repr__(self):\n",
    "        return str(self.__value)\n",
    "\n",
    "\n",
    "class Nothing:\n",
    "    \n",
    "    def bind(self, fnc):\n",
    "        return Nothing()\n",
    "\n",
    "    def __repr__(self):\n",
    "        return \"Nothing\"\n",
    "\n",
    "\n",
    "print(Just(\"hello_world\").bind(camelcase))\n",
    "print(Just(0).bind(camelcase))"
   ]
  }
 ],
 "metadata": {
  "interpreter": {
   "hash": "76a9a7e4115ee096d2fb998ce9e11ead07d8a3febc945e1ca345b95405fc4a30"
  },
  "kernelspec": {
   "display_name": "Python 3.8.10 64-bit ('functional-programming-in-python': virtualenv)",
   "name": "python3"
  },
  "language_info": {
   "codemirror_mode": {
    "name": "ipython",
    "version": 3
   },
   "file_extension": ".py",
   "mimetype": "text/x-python",
   "name": "python",
   "nbconvert_exporter": "python",
   "pygments_lexer": "ipython3",
   "version": "3.8.10"
  },
  "orig_nbformat": 4
 },
 "nbformat": 4,
 "nbformat_minor": 2
}
