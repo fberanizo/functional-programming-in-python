{
 "cells": [
  {
   "cell_type": "markdown",
   "metadata": {},
   "source": [
    "# Currying\n",
    "\n",
    "*Argument binding* para transformar funções de múltiplos parâmetros em função com 1 parâmetro."
   ]
  },
  {
   "cell_type": "code",
   "execution_count": 2,
   "metadata": {},
   "outputs": [
    {
     "data": {
      "text/plain": [
       "10"
      ]
     },
     "execution_count": 2,
     "metadata": {},
     "output_type": "execute_result"
    }
   ],
   "source": [
    "def add(a, b, c):\n",
    "    return a + b + c\n",
    "\n",
    "add(2, 3, 5)"
   ]
  },
  {
   "cell_type": "code",
   "execution_count": 4,
   "metadata": {},
   "outputs": [
    {
     "data": {
      "text/plain": [
       "10"
      ]
     },
     "execution_count": 4,
     "metadata": {},
     "output_type": "execute_result"
    }
   ],
   "source": [
    "from functools import partial\n",
    "from inspect import signature\n",
    "\n",
    "\n",
    "def curry(fnc):\n",
    "\n",
    "    def inner(arg):\n",
    "        if len(signature(fnc).parameters) == 1:\n",
    "            return fnc(arg)\n",
    "        return curry(partial(fnc, arg))\n",
    "\n",
    "    return inner\n",
    "\n",
    "\n",
    "@curry\n",
    "def add(a, b, c):\n",
    "    return a + b + c\n",
    "\n",
    "\n",
    "add(2)(3)(5)"
   ]
  }
 ],
 "metadata": {
  "interpreter": {
   "hash": "76a9a7e4115ee096d2fb998ce9e11ead07d8a3febc945e1ca345b95405fc4a30"
  },
  "kernelspec": {
   "display_name": "Python 3.8.10 64-bit ('functional-programming-in-python': virtualenv)",
   "name": "python3"
  },
  "language_info": {
   "codemirror_mode": {
    "name": "ipython",
    "version": 3
   },
   "file_extension": ".py",
   "mimetype": "text/x-python",
   "name": "python",
   "nbconvert_exporter": "python",
   "pygments_lexer": "ipython3",
   "version": "3.8.10"
  },
  "orig_nbformat": 4
 },
 "nbformat": 4,
 "nbformat_minor": 2
}
